{
 "cells": [
  {
   "cell_type": "markdown",
   "id": "a1a438fe",
   "metadata": {},
   "source": [
    "### Rajvardhan Deshmukh"
   ]
  },
  {
   "cell_type": "code",
   "execution_count": 95,
   "id": "78dfee76",
   "metadata": {},
   "outputs": [],
   "source": [
    "import json\n",
    "import requests"
   ]
  },
  {
   "cell_type": "markdown",
   "id": "153286fb",
   "metadata": {},
   "source": [
    "### Collecting Data\n",
    "1 = Head\n",
    "0 = Tails"
   ]
  },
  {
   "cell_type": "code",
   "execution_count": 96,
   "id": "80694cd7",
   "metadata": {},
   "outputs": [],
   "source": [
    "data=[]\n",
    "for i in range(30):\n",
    "    res = requests.get(\"https://24zl01u3ff.execute-api.us-west-1.amazonaws.com/beta\").text\n",
    "    res = json.loads(res)\n",
    "    res = res[\"body\"][1:len(res[\"body\"])-1].split(\", \")\n",
    "    res = [int(x) for x in res]\n",
    "    data.append(res)"
   ]
  },
  {
   "cell_type": "markdown",
   "id": "fec7ccec",
   "metadata": {},
   "source": [
    "### Estimating the theta parameters - EM Algorithm\n",
    "\n",
    "In an example like this if we have information like which coin was chosen and its respective draw then calculating bias is a very easy task. But in a scenario where we might not know which draw belongs to which coin then we need Expectation Maximization Algorithm to calculate the biases of the coins (such a scenario might occur when there is missing data/column/ etc.\n",
    "There are two major steps to calculating the theta parameters in the problem statement:\n",
    "\n",
    "#### Expectation:\n",
    "At first, we will initialize the bias to random values and then use them along with the draws to calculate the probability of which coin it is using the Baye’s Formula. This probabilities let’s us determine what share of heads and tails belongs to which coin in a given draw.\n",
    "\n",
    "#### Maximization:\n",
    "Once we have the share of number of heads and tails of each coin, we maximize the theta values i.e. divide the number of heads for a coin divided by the total flips. These new theta values are then used for the next iteration of the EM Algorithm\n",
    "\n",
    "#### Steps taken\n",
    "We have to choose the initial values randomly. To ensure we have reached the global maximums for theta values I have used 4 different initial values - 0.7 and 0.6, 0.6 and 0.5, 0.7 and 0.4, 0.4 and 0.3\n",
    "\n",
    "#### Scope\n",
    "There are some research papers on choosing the initial values of the biases which affects the convergence rate majorly. There are different techniques like using PCA/supplementary information usage/Poisson Distribution Mixtures/etc\n"
   ]
  },
  {
   "cell_type": "code",
   "execution_count": 97,
   "id": "7af5d41e",
   "metadata": {
    "scrolled": true
   },
   "outputs": [
    {
     "name": "stdout",
     "output_type": "stream",
     "text": [
      "Iteration0:\t0.70 0.60\n",
      "Iteration1:\t0.68 0.40\n",
      "Iteration2:\t0.70 0.34\n",
      "Iteration3:\t0.70 0.33\n",
      "Iteration4:\t0.70 0.33\n",
      "Iteration5:\t0.70 0.33\n",
      "Iteration6:\t0.70 0.33\n",
      "Iteration7:\t0.70 0.33\n",
      "Iteration8:\t0.70 0.33\n",
      "Iteration9:\t0.70 0.33\n",
      "=======\n",
      "Iteration0:\t0.60 0.50\n",
      "Iteration1:\t0.64 0.37\n",
      "Iteration2:\t0.69 0.33\n",
      "Iteration3:\t0.69 0.32\n",
      "Iteration4:\t0.70 0.33\n",
      "Iteration5:\t0.70 0.33\n",
      "Iteration6:\t0.70 0.33\n",
      "Iteration7:\t0.70 0.33\n",
      "Iteration8:\t0.70 0.33\n",
      "Iteration9:\t0.70 0.33\n",
      "=======\n",
      "Iteration0:\t0.70 0.40\n",
      "Iteration1:\t0.71 0.34\n",
      "Iteration2:\t0.70 0.33\n",
      "Iteration3:\t0.70 0.33\n",
      "Iteration4:\t0.70 0.33\n",
      "Iteration5:\t0.70 0.33\n",
      "Iteration6:\t0.70 0.33\n",
      "Iteration7:\t0.70 0.33\n",
      "Iteration8:\t0.70 0.33\n",
      "Iteration9:\t0.70 0.33\n",
      "=======\n",
      "Iteration0:\t0.40 0.30\n",
      "Iteration1:\t0.57 0.31\n",
      "Iteration2:\t0.65 0.31\n",
      "Iteration3:\t0.68 0.32\n",
      "Iteration4:\t0.69 0.32\n",
      "Iteration5:\t0.69 0.32\n",
      "Iteration6:\t0.70 0.33\n",
      "Iteration7:\t0.70 0.33\n",
      "Iteration8:\t0.70 0.33\n",
      "Iteration9:\t0.70 0.33\n",
      "=======\n"
     ]
    }
   ],
   "source": [
    "import numpy as np\n",
    "\n",
    "def em(data,theta1,theta2, iterations):\n",
    "    thetas = [(theta1, theta2)]\n",
    "    for c in range(iterations):\n",
    "        print(\"Iteration%d:\\t%0.2f %0.2f\" % (c, theta1, theta2))\n",
    "        heads1, tails1, heads2, tails2 = expectation(data, theta1, theta2)\n",
    "        theta1, theta2 = maximisation(heads1, tails1, heads2, tails2)\n",
    "        thetas.append((theta1,theta2))    \n",
    "    return thetas\n",
    "\n",
    "def expectation(data, theta1, theta2):\n",
    "    heads1, tails1 = 0,0\n",
    "    heads2, tails2 = 0,0\n",
    "    for draw in data:\n",
    "        likelihood1 = coin_likelihood(draw, theta1)\n",
    "        likelihood2 = coin_likelihood(draw, theta2)\n",
    "        p1 = likelihood1 / (likelihood1 + likelihood2)\n",
    "        p2 = likelihood2 / (likelihood1 + likelihood2)\n",
    "        heads1 += p1 * draw.count(1)\n",
    "        tails1 += p1 * draw.count(0)\n",
    "        heads2 += p2 * draw.count(1)\n",
    "        tails2 += p2 * draw.count(0) \n",
    "    return heads1, tails1, heads2, tails2\n",
    "\n",
    "def maximisation(heads1, tails1, heads2, tails2):\n",
    "    theta1 = heads1 / (heads1 + tails1)\n",
    "    theta2 = heads2 / (heads2 + tails2)\n",
    "    return theta1, theta2\n",
    "\n",
    "def coin_likelihood(draw, bias):\n",
    "    numHeads = draw.count(1)\n",
    "    flips = len(draw)\n",
    "    return pow(bias, numHeads) * pow(1-bias, flips-numHeads)\n",
    "\n",
    "\n",
    "thetas = em(data, 0.7, 0.6, 10)\n",
    "print(\"=======\")\n",
    "thetas = em(data, 0.6, 0.5, 10)\n",
    "print(\"=======\")\n",
    "thetas = em(data, 0.7, 0.4, 10)\n",
    "print(\"=======\")\n",
    "thetas = em(data, 0.4, 0.3, 10)\n",
    "print(\"=======\")"
   ]
  },
  {
   "cell_type": "markdown",
   "id": "87291f32",
   "metadata": {},
   "source": [
    "### Observation\n",
    "We notice that there is convergence of theta values for each set of inital values to 0.7 and 0.33 which means that this is most likely the global maximum.<br>\n",
    "Thus our final theta parameters for both the coins are <b> 0.7 and 0.30 <b>"
   ]
  },
  {
   "cell_type": "code",
   "execution_count": null,
   "id": "17864138",
   "metadata": {},
   "outputs": [],
   "source": []
  }
 ],
 "metadata": {
  "kernelspec": {
   "display_name": "Python 3 (ipykernel)",
   "language": "python",
   "name": "python3"
  },
  "language_info": {
   "codemirror_mode": {
    "name": "ipython",
    "version": 3
   },
   "file_extension": ".py",
   "mimetype": "text/x-python",
   "name": "python",
   "nbconvert_exporter": "python",
   "pygments_lexer": "ipython3",
   "version": "3.9.5"
  }
 },
 "nbformat": 4,
 "nbformat_minor": 5
}
